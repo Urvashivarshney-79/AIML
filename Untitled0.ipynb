{
  "nbformat": 4,
  "nbformat_minor": 0,
  "metadata": {
    "colab": {
      "name": "Untitled0.ipynb",
      "provenance": [],
      "collapsed_sections": [],
      "include_colab_link": true
    },
    "kernelspec": {
      "name": "python3",
      "display_name": "Python 3"
    },
    "language_info": {
      "name": "python"
    }
  },
  "cells": [
    {
      "cell_type": "markdown",
      "metadata": {
        "id": "view-in-github",
        "colab_type": "text"
      },
      "source": [
        "<a href=\"https://colab.research.google.com/github/Urvashivarshney-79/AIML/blob/master/Untitled0.ipynb\" target=\"_parent\"><img src=\"https://colab.research.google.com/assets/colab-badge.svg\" alt=\"Open In Colab\"/></a>"
      ]
    },
    {
      "cell_type": "markdown",
      "metadata": {
        "id": "eGRYJCEt3Zmq"
      },
      "source": [
        "# Take a list input and convert the list into square root of each element"
      ]
    },
    {
      "cell_type": "code",
      "metadata": {
        "id": "HenCrZV85PKZ",
        "outputId": "5d62f16d-9191-42af-d672-bf03b3edfcb4",
        "colab": {
          "base_uri": "https://localhost:8080/"
        }
      },
      "source": [
        "import math\n",
        "def convert(x):\n",
        "  x=int(x)\n",
        "  x=math.sqrt(x)\n",
        "  return x\n",
        "\n",
        "lst=list(map(convert,input().split()))\n",
        "\n",
        "\n",
        "print(lst)\n"
      ],
      "execution_count": 1,
      "outputs": [
        {
          "output_type": "stream",
          "text": [
            "3 45 47 77\n",
            "[1.7320508075688772, 6.708203932499369, 6.855654600401044, 8.774964387392123]\n"
          ],
          "name": "stdout"
        }
      ]
    },
    {
      "cell_type": "markdown",
      "metadata": {
        "id": "oMwaqoQ-5RtR"
      },
      "source": [
        "**Double click here for solution\n",
        "<!--\n",
        "import math\n",
        "def convert(x):\n",
        "  x=int(x)\n",
        "  x=math.sqrt(x)\n",
        "  return x\n",
        "\n",
        "lst=list(map(convert,input().split()))\n",
        "\n",
        "\n",
        "print(lst)\n",
        "\n",
        "-->"
      ]
    },
    {
      "cell_type": "code",
      "metadata": {
        "id": "9qDBl9E_4roc"
      },
      "source": [
        ""
      ],
      "execution_count": null,
      "outputs": []
    }
  ]
}