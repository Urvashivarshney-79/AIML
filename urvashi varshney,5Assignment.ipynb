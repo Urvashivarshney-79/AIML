{
 "cells": [
  {
   "cell_type": "markdown",
   "metadata": {},
   "source": [
    "### Python program to find the first 20 non-even prime natural numbers."
   ]
  },
  {
   "cell_type": "code",
   "execution_count": 2,
   "metadata": {},
   "outputs": [
    {
     "name": "stdout",
     "output_type": "stream",
     "text": [
      "1\n",
      "2\n",
      "3\n",
      "5\n",
      "7\n",
      "11\n",
      "13\n",
      "17\n",
      "19\n",
      "23\n",
      "29\n",
      "31\n",
      "37\n",
      "41\n",
      "43\n",
      "47\n",
      "53\n",
      "59\n"
     ]
    }
   ],
   "source": [
    "start = 1\n",
    "end = 60\n",
    "  \n",
    "for i in range(start,end): \n",
    "    for j in range(2,i): \n",
    "        if(i % j==0): \n",
    "            break\n",
    "    else: \n",
    "        print(i) "
   ]
  },
  {
   "cell_type": "markdown",
   "metadata": {},
   "source": [
    "### Python program to implement 15 functions of string."
   ]
  },
  {
   "cell_type": "code",
   "execution_count": 7,
   "metadata": {},
   "outputs": [
    {
     "name": "stdout",
     "output_type": "stream",
     "text": [
      "hello\n",
      "hello\n",
      "R S\n",
      "varshney\n",
      "er worl\n",
      "16\n",
      "hello world\n",
      "hello world\n",
      "HELLO WORLD\n",
      "hello world\n",
      "False\n",
      "iam student\n"
     ]
    }
   ],
   "source": [
    "#1.String literals\n",
    "print(\"hello\")\n",
    "\n",
    "#2.assign with variable\n",
    "a=\"hello\"\n",
    "print(\"hello\")\n",
    "\n",
    "#3.String and arrays\n",
    "a=\"URVASHI\"\n",
    "print(a[1],a[4])\n",
    "\n",
    "#4.Slicing\n",
    "h=\"urvahsivarshney\"\n",
    "print(h[7:15])\n",
    "\n",
    "#5.negative index\n",
    "n=\"hello jupyter world\"\n",
    "print(n[-8:-1])\n",
    "\n",
    "#6.string length\n",
    "a=\"urvashi varshney\"\n",
    "print(len(a))\n",
    "\n",
    "#7.string method(strip)\n",
    "a=\"hello world\"\n",
    "print(a.strip())\n",
    "\n",
    "#8.(lower)\n",
    "a=\"HelLo WoRld\"\n",
    "print(a.lower())\n",
    "\n",
    "#9.(upper)\n",
    "e=\"hello world\"\n",
    "print(e.upper())\n",
    "\n",
    "#10.replace\n",
    "l=\"jello world\"\n",
    "print(l.replace(\"j\",\"h\"))\n",
    "\n",
    "#11.Check string\n",
    "txt=\"I am student of Batch2\"\n",
    "d=\"batch2\" in txt\n",
    "print(d)\n",
    "\n",
    "#12.string concatenation\n",
    "a=\"i\"\n",
    "b=\"am student\"\n",
    "c=a+b\n",
    "print(c)\n",
    "\n"
   ]
  },
  {
   "cell_type": "markdown",
   "metadata": {},
   "source": [
    "### Write a Python program to check if the given string is a Palindrome or Anagram or None of them. "
   ]
  },
  {
   "cell_type": "code",
   "execution_count": 13,
   "metadata": {},
   "outputs": [
    {
     "name": "stdout",
     "output_type": "stream",
     "text": [
      "enter a string:malayalam\n",
      "palindrome "
     ]
    }
   ],
   "source": [
    "s=input(\"enter a string:\")\n",
    "j = -1\n",
    "flag = 0\n",
    "for i in s:\n",
    "    if i != s[j]:\n",
    "      j = j - 1\n",
    "      flag = 1\n",
    "      break\n",
    "    j = j - 1\n",
    "if flag == 1:\n",
    "    print(\"Anagram\",end=\" \")\n",
    "else:\n",
    "    print(\"palindrome\",end=\" \")"
   ]
  }
 ],
 "metadata": {
  "kernelspec": {
   "display_name": "Python 3",
   "language": "python",
   "name": "python3"
  }
 },
 "nbformat": 4,
 "nbformat_minor": 4
}
